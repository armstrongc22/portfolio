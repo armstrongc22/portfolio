{
 "cells": [
  {
   "cell_type": "code",
   "execution_count": 4,
   "id": "34b4cde4-3860-4134-be91-d1d0aba7adcd",
   "metadata": {},
   "outputs": [],
   "source": [
    "import os, requests, math, pandas as pd\n",
    "from geopy import Nominatim\n",
    "from shapely.geometry import Point\n",
    "\n",
    "def geocode_city(city, country=None, radius_km=5):\n",
    "    loc = Nominatim(user_agent=\"gap-index\").geocode(f\"{city}, {country or ''}\")\n",
    "    if not loc:\n",
    "        raise ValueError(\"City not found\")\n",
    "    return {\"lat\": loc.latitude, \"lon\": loc.longitude, \"radius_m\": radius_km*1000}\n",
    "\n",
    "city_geom = geocode_city(\"Santiago\", \"Chile\", radius_km=5)\n"
   ]
  },
  {
   "cell_type": "code",
   "execution_count": 11,
   "id": "e43beb13-40d0-46e2-9cad-1596ee9b627f",
   "metadata": {},
   "outputs": [],
   "source": [
    "import overpy\n",
    "api = overpy.Overpass()\n",
    "\n",
    "def osm_count_circle(lat, lon, radius_m, tag_key, tag_val,\n",
    "                     mirrors=None, timeout=120):\n",
    "    if mirrors is None:\n",
    "        mirrors = [\n",
    "            \"https://lz4.overpass-api.de/api\",\n",
    "            \"https://overpass.kumi.systems/api\",\n",
    "            \"https://overpass-api.de/api\",\n",
    "        ]\n",
    "    q = f\"\"\"\n",
    "    [out:json][timeout:{timeout}];\n",
    "    (\n",
    "      node[\"{tag_key}\"=\"{tag_val}\"](around:{radius_m},{lat},{lon});\n",
    "      way [\"{tag_key}\"=\"{tag_val}\"](around:{radius_m},{lat},{lon});\n",
    "      rel [\"{tag_key}\"=\"{tag_val}\"](around:{radius_m},{lat},{lon});\n",
    "    );\n",
    "    out count;\n",
    "    \"\"\"\n",
    "    for url in mirrors:\n",
    "        try:\n",
    "            api = overpy.Overpass(url=url, timeout=timeout)\n",
    "            res = api.query(q)\n",
    "            return res.count_nodes + res.count_ways + res.count_relations\n",
    "        except (overpy.exception.OverpassGatewayTimeout,\n",
    "                overpy.exception.OverpassTooManyRequests):\n",
    "            time.sleep(10)\n",
    "    raise RuntimeError(\"All Overpass mirrors timed out.\")\n"
   ]
  },
  {
   "cell_type": "code",
   "execution_count": 5,
   "id": "d78e46ce-dd65-4398-a6b4-2621daa7fc47",
   "metadata": {},
   "outputs": [],
   "source": [
    "import wbgapi as wb\n",
    "\n",
    "def demand_drivers(country_iso):\n",
    "    gdp_pc = wb.data.DataFrame(\"NY.GDP.PCAP.CD\", country_iso, mrv=1).iloc[0,0]\n",
    "    pop     = wb.data.DataFrame(\"SP.POP.TOTL\",    country_iso, mrv=1).iloc[0,0]\n",
    "    return {\"gdp_pc\": gdp_pc, \"pop\": pop}\n"
   ]
  },
  {
   "cell_type": "code",
   "execution_count": 6,
   "id": "7b2d5078-fbaa-434b-932a-0bd38e4759bd",
   "metadata": {},
   "outputs": [],
   "source": [
    "growth = {\"lights_delta_pct\": +4.2}  # stub\n"
   ]
  },
  {
   "cell_type": "code",
   "execution_count": 7,
   "id": "cfebbb35-fda0-46fa-ae78-5d93a4940187",
   "metadata": {},
   "outputs": [],
   "source": [
    "def gap_score(category_count, drivers, growth):\n",
    "    # benchmark: outlets per million people in USA\n",
    "    BENCHMARK = 40     # tweak per category\n",
    "    outlets_per_m = category_count / (drivers[\"pop\"]/1_000_000)\n",
    "    gap_ratio     = outlets_per_m / BENCHMARK          # < 1  means undersupply\n",
    "    demand_index  = drivers[\"gdp_pc\"] * (1 + growth.get(\"lights_delta_pct\",0)/100)\n",
    "    # scale demand so the final score is 0–100\n",
    "    raw_score = (1-gap_ratio) * demand_index / 1e5\n",
    "    return max(0, min(100, raw_score))\n"
   ]
  },
  {
   "cell_type": "code",
   "execution_count": 12,
   "id": "5f019c76-7ab2-4bf0-8ad3-71b7db21688b",
   "metadata": {},
   "outputs": [
    {
     "ename": "OverpassGatewayTimeout",
     "evalue": "Server load too high",
     "output_type": "error",
     "traceback": [
      "\u001b[1;31m---------------------------------------------------------------------------\u001b[0m",
      "\u001b[1;31mOverpassGatewayTimeout\u001b[0m                    Traceback (most recent call last)",
      "Cell \u001b[1;32mIn[12], line 6\u001b[0m\n\u001b[0;32m      3\u001b[0m iso3   \u001b[38;5;241m=\u001b[39m \u001b[38;5;124m\"\u001b[39m\u001b[38;5;124mCHL\u001b[39m\u001b[38;5;124m\"\u001b[39m\n\u001b[0;32m      5\u001b[0m geom     \u001b[38;5;241m=\u001b[39m geocode_city(city, \u001b[38;5;124m\"\u001b[39m\u001b[38;5;124mChile\u001b[39m\u001b[38;5;124m\"\u001b[39m, radius_km\u001b[38;5;241m=\u001b[39m\u001b[38;5;241m5\u001b[39m)\n\u001b[1;32m----> 6\u001b[0m supply   \u001b[38;5;241m=\u001b[39m osm_count(ctype, geom,city)\n\u001b[0;32m      7\u001b[0m drivers  \u001b[38;5;241m=\u001b[39m demand_drivers(iso3)\n\u001b[0;32m      8\u001b[0m score    \u001b[38;5;241m=\u001b[39m gap_score(supply, drivers, growth)\n",
      "Cell \u001b[1;32mIn[3], line 10\u001b[0m, in \u001b[0;36mosm_count\u001b[1;34m(tag_key, tag_value, city)\u001b[0m\n\u001b[0;32m      4\u001b[0m \u001b[38;5;28;01mdef\u001b[39;00m \u001b[38;5;21mosm_count\u001b[39m(tag_key, tag_value, city):\n\u001b[0;32m      5\u001b[0m     query \u001b[38;5;241m=\u001b[39m \u001b[38;5;124mf\u001b[39m\u001b[38;5;124m'''\u001b[39m\n\u001b[0;32m      6\u001b[0m \u001b[38;5;124m    area[\u001b[39m\u001b[38;5;124m\"\u001b[39m\u001b[38;5;124mname\u001b[39m\u001b[38;5;124m\"\u001b[39m\u001b[38;5;124m=\u001b[39m\u001b[38;5;124m\"\u001b[39m\u001b[38;5;132;01m{\u001b[39;00mcity\u001b[38;5;132;01m}\u001b[39;00m\u001b[38;5;124m\"\u001b[39m\u001b[38;5;124m][admin_level];\u001b[39m\n\u001b[0;32m      7\u001b[0m \u001b[38;5;124m    node(area)[\u001b[39m\u001b[38;5;124m\"\u001b[39m\u001b[38;5;132;01m{\u001b[39;00mtag_key\u001b[38;5;132;01m}\u001b[39;00m\u001b[38;5;124m\"\u001b[39m\u001b[38;5;124m=\u001b[39m\u001b[38;5;124m\"\u001b[39m\u001b[38;5;132;01m{\u001b[39;00mtag_value\u001b[38;5;132;01m}\u001b[39;00m\u001b[38;5;124m\"\u001b[39m\u001b[38;5;124m];\u001b[39m\n\u001b[0;32m      8\u001b[0m \u001b[38;5;124m    out count;\u001b[39m\n\u001b[0;32m      9\u001b[0m \u001b[38;5;124m    \u001b[39m\u001b[38;5;124m'''\u001b[39m\n\u001b[1;32m---> 10\u001b[0m     result \u001b[38;5;241m=\u001b[39m api\u001b[38;5;241m.\u001b[39mquery(query)\n\u001b[0;32m     11\u001b[0m     \u001b[38;5;28;01mreturn\u001b[39;00m result\u001b[38;5;241m.\u001b[39mcount_nodes\n",
      "File \u001b[1;32m~\\AppData\\Local\\anaconda3\\envs\\anaconda3\\Lib\\site-packages\\overpy\\__init__.py:189\u001b[0m, in \u001b[0;36mOverpass.query\u001b[1;34m(self, query)\u001b[0m\n\u001b[0;32m    187\u001b[0m current_exception \u001b[38;5;241m=\u001b[39m exception\u001b[38;5;241m.\u001b[39mOverpassGatewayTimeout()\n\u001b[0;32m    188\u001b[0m \u001b[38;5;28;01mif\u001b[39;00m \u001b[38;5;129;01mnot\u001b[39;00m do_retry:\n\u001b[1;32m--> 189\u001b[0m     \u001b[38;5;28;01mraise\u001b[39;00m current_exception\n\u001b[0;32m    190\u001b[0m retry_exceptions\u001b[38;5;241m.\u001b[39mappend(current_exception)\n\u001b[0;32m    191\u001b[0m \u001b[38;5;28;01mcontinue\u001b[39;00m\n",
      "\u001b[1;31mOverpassGatewayTimeout\u001b[0m: Server load too high"
     ]
    }
   ],
   "source": [
    "city   = \"Santiago\"\n",
    "ctype  = \"laundry\"           # Google place type\n",
    "iso3   = \"CHL\"\n",
    "\n",
    "geom     = geocode_city(city, \"Chile\", radius_km=5)\n",
    "supply   = osm_count(ctype, geom,city)\n",
    "drivers  = demand_drivers(iso3)\n",
    "score    = gap_score(supply, drivers, growth)\n",
    "\n",
    "print(f\"{city}: {supply} {ctype}s → Opportunity Score {score:.1f}/100\")\n"
   ]
  },
  {
   "cell_type": "code",
   "execution_count": null,
   "id": "d0930c10-fc7b-46c3-8d80-1132bd6b259c",
   "metadata": {},
   "outputs": [],
   "source": []
  },
  {
   "cell_type": "markdown",
   "id": "5237a9aa-bcfb-4c71-b973-4c0ead4ab775",
   "metadata": {},
   "source": [
    "# config.py"
   ]
  },
  {
   "cell_type": "code",
   "execution_count": 13,
   "id": "2da4d12b-7c04-41fe-bb7b-7fcf48f7a470",
   "metadata": {},
   "outputs": [],
   "source": [
    "# --- BigQuery ---\n",
    "PROJECT   = \"mindful-vial-460001-h6\"\n",
    "DATASET   = \"boi_mvp\"          # created once via infra/bigquery.sql\n",
    "LOCATION  = \"us-central1\"\n",
    "\n",
    "# --- Confluent ---\n",
    "KAFKA_BOOTSTRAP = \"pkc-zgp5j7.us-south1.gcp.confluent.cloud:9092\"\n",
    "KAFKA_API_KEY   = \"LKH74XFTETPCQOPN\"\n",
    "KAFKA_SECRET    = \"qUt3+K7gyZ296T2rUph0Y6fTWaDOEgzEFqWqJw6Sa1Z6ris6TfU+9gRjzEFdqi64\"\n",
    "TOPIC_DEMAND    = \"boi.demand\"\n",
    "TOPIC_SUPPLY    = \"boi.supply\"\n"
   ]
  },
  {
   "cell_type": "code",
   "execution_count": 15,
   "id": "2d9e838e-0ea3-4274-a170-38536337092c",
   "metadata": {},
   "outputs": [
    {
     "ename": "ImportError",
     "evalue": "attempted relative import with no known parent package",
     "output_type": "error",
     "traceback": [
      "\u001b[1;31m---------------------------------------------------------------------------\u001b[0m",
      "\u001b[1;31mImportError\u001b[0m                               Traceback (most recent call last)",
      "Cell \u001b[1;32mIn[15], line 3\u001b[0m\n\u001b[0;32m      1\u001b[0m \u001b[38;5;66;03m# src/ingest/worldbank.py\u001b[39;00m\n\u001b[0;32m      2\u001b[0m \u001b[38;5;28;01mfrom\u001b[39;00m \u001b[38;5;21;01mconfluent_kafka\u001b[39;00m \u001b[38;5;28;01mimport\u001b[39;00m Producer\n\u001b[1;32m----> 3\u001b[0m \u001b[38;5;28;01mfrom\u001b[39;00m \u001b[38;5;21;01m.\u001b[39;00m\u001b[38;5;21;01m.\u001b[39;00m \u001b[38;5;28;01mimport\u001b[39;00m config \u001b[38;5;28;01mas\u001b[39;00m cfg\n\u001b[0;32m      5\u001b[0m p \u001b[38;5;241m=\u001b[39m Producer({\n\u001b[0;32m      6\u001b[0m     \u001b[38;5;124m\"\u001b[39m\u001b[38;5;124mbootstrap.servers\u001b[39m\u001b[38;5;124m\"\u001b[39m: confi\u001b[38;5;241m.\u001b[39mKAFKA_BOOTSTRAP,\n\u001b[0;32m      7\u001b[0m     \u001b[38;5;124m\"\u001b[39m\u001b[38;5;124msasl.username\u001b[39m\u001b[38;5;124m\"\u001b[39m:     confi\u001b[38;5;241m.\u001b[39mKAFKA_API_KEY,\n\u001b[1;32m   (...)\u001b[0m\n\u001b[0;32m     10\u001b[0m     \u001b[38;5;124m\"\u001b[39m\u001b[38;5;124msasl.mechanisms\u001b[39m\u001b[38;5;124m\"\u001b[39m:   \u001b[38;5;124m\"\u001b[39m\u001b[38;5;124mPLAIN\u001b[39m\u001b[38;5;124m\"\u001b[39m,\n\u001b[0;32m     11\u001b[0m })\n\u001b[0;32m     13\u001b[0m \u001b[38;5;28;01mdef\u001b[39;00m \u001b[38;5;21mfetch_and_stream\u001b[39m(iso3_list):\n",
      "\u001b[1;31mImportError\u001b[0m: attempted relative import with no known parent package"
     ]
    }
   ],
   "source": [
    "# src/ingest/worldbank.py\n",
    "from confluent_kafka import Producer\n",
    "from .. import config as cfg\n",
    "\n",
    "p = Producer({\n",
    "    \"bootstrap.servers\": confi.KAFKA_BOOTSTRAP,\n",
    "    \"sasl.username\":     confi.KAFKA_API_KEY,\n",
    "    \"sasl.password\":     confi.KAFKA_SECRET,\n",
    "    \"security.protocol\": \"SASL_SSL\",\n",
    "    \"sasl.mechanisms\":   \"PLAIN\",\n",
    "})\n",
    "\n",
    "def fetch_and_stream(iso3_list):\n",
    "    ...\n",
    "    for row in rows:                # rows <- list of dicts\n",
    "        p.produce(confi.TOPIC_DEMAND,\n",
    "                  key=row[\"iso3\"],\n",
    "                  value=json.dumps(row))\n",
    "    p.flush()\n"
   ]
  },
  {
   "cell_type": "code",
   "execution_count": null,
   "id": "bd558862-2970-42da-8f82-981c48de43e8",
   "metadata": {},
   "outputs": [],
   "source": []
  }
 ],
 "metadata": {
  "kernelspec": {
   "display_name": "Python 3 (ipykernel)",
   "language": "python",
   "name": "python3"
  },
  "language_info": {
   "codemirror_mode": {
    "name": "ipython",
    "version": 3
   },
   "file_extension": ".py",
   "mimetype": "text/x-python",
   "name": "python",
   "nbconvert_exporter": "python",
   "pygments_lexer": "ipython3",
   "version": "3.12.9"
  }
 },
 "nbformat": 4,
 "nbformat_minor": 5
}
