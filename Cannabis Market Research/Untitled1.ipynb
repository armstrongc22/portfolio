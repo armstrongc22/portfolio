{
 "cells": [
  {
   "cell_type": "code",
   "execution_count": null,
   "id": "816377c7-0e85-4053-9d72-9b700e7099c5",
   "metadata": {},
   "outputs": [],
   "source": []
  }
 ],
 "metadata": {
  "kernelspec": {
   "display_name": "",
   "name": ""
  },
  "language_info": {
   "name": ""
  }
 },
 "nbformat": 4,
 "nbformat_minor": 5
}
